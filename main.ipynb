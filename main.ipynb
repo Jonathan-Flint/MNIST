{
 "cells": [
  {
   "attachments": {},
   "cell_type": "markdown",
   "metadata": {},
   "source": [
    "# MNIST\n",
    "\n",
    "The MNIST dataset is a dataset of written numbers stored in 28x28 pixel greyscale images and is commonly used as a training dataset for neural networks and is frequently used as an introductory learning tool for Machine Learning (ML) and Artificial Intelligence (AI)\n",
    "\n",
    "This project is precisely such a use of the MNIST dataset\n",
    "\n",
    "As well as a self taught introduction to ML, this project is also to serve as further development of my python skills and will be the first time using Git source control\n",
    "The end goal is to have a fully functioning ML model built from scratch to demostrate my proficiency in writing code in python, using Git as a source control tool but most importantly show my mathematical capability to understand and impliment complex machine learning algorithms \n",
    "\n",
    "My starting point is a masters (integrated, 4 year) degree in particle physics and cosmology, in which I learned linear algebra for use in tensor calculus in areas such as Quantum Field Theory. During my degree I also learning basic python programming as an important tool for any experimental phycicist to be able to analyse data. Now, with experience in a role as a data analyst I am looking to expand my skills set and learn the basics of data engineering and data science with the hope to steer my career into one of those fields."
   ]
  },
  {
   "cell_type": "code",
   "execution_count": null,
   "metadata": {},
   "outputs": [],
   "source": [
    "import numpy as np"
   ]
  },
  {
   "attachments": {},
   "cell_type": "markdown",
   "metadata": {},
   "source": [
    "# The Project\n",
    "\n",
    "This project will make use of the 28x28 pixel images totalling 784 pixels per image as training and test datasets to build a neural network around. Each pixel is just a pixel value between 0 - 255, where 0 is completely black and 255 being a fully white pixel. This range allows the pixels in between to be greyscale. We will consider m training images\n",
    "\n",
    "Consider the pixel values stored in a matrix X which has dimensions m x 784. Transposing this matrix so each image example is in a column:\n",
    "\n",
    "\\begin{equation}\n",
    "    X = \\begin{bmatrix}\n",
    "        x_{1}^{1} & x_{1}^{2} & x_{1}^{3} & x_{1}^{4} ... & x_{1}^{784}\\\\\n",
    "        \\\\\n",
    "        x_{2}^{1} & x_{2}^{2} & x_{2}^{3} & x_{2}^{4} ... & x_{2}^{784}\\\\\n",
    "        \\\\\n",
    "        && .\n",
    "        \\\\\n",
    "        &&.\n",
    "        \\\\\n",
    "        &&.\n",
    "        \\\\\n",
    "        x_{m}^{1} & x_{m}^{2} & x_{m}^{3} & x_{m}^{4} ... & x_{2}^{784}\n",
    "        \\end{bmatrix}^{T}\n",
    "        = \n",
    "        \\begin{bmatrix}\n",
    "        x_{1}^{1} & x_{2}^{1} & x_{3}^{1} & x_{4}^{2} ... x_{m}^{1}\\\\\n",
    "        \\\\\n",
    "        x_{1}^{2} & x_{2}^{2} & x_{3}^{1} & x_{4}^{2} ... x_{m}^{2}\\\\\n",
    "        \\\\\n",
    "        && .\n",
    "        \\\\\n",
    "        &&.\n",
    "        \\\\\n",
    "        &&.\n",
    "        \\\\\n",
    "        x_{1}^{784} & x_{2}^{784} & x_{3}^{784} & x_{4}^{784} ... x_{m}^{783}\n",
    "        \\end{bmatrix}\n",
    "\\end{equation}\n",
    "\n",
    "where $x_{i}^{j}$ is the jth pixel in image i.\n",
    "\n",
    "The target is to build a simple program to do some processing on each column $x_{i}$ to produce a prediction for what intiger $\\hat{x_{i}}$ the image represents."
   ]
  },
  {
   "attachments": {},
   "cell_type": "markdown",
   "metadata": {},
   "source": [
    "# Neural Networks (NN)\n",
    "\n",
    "A neural network is a network of \"nodes\" arranged in layers which are all connected to each node in the adjecent layers. The layers can be thought of as lines of dots where each dot is a node and each node has a line connecting it to every node in the previous and subsquent layers.\n",
    "\n",
    "\n",
    "### Our Neural Network\n",
    "\n",
    "The program will use a simple neural network made up of 3 layers, 1 input (or $0^{th}$) layer with 784 input nodes which correspond to the 784 pixels in the given image, 1 hidden layer ($1^{st}$) which does the actual computation and 1 output ($2^{nd}$) layer. Both the hidden and output layers will have 10 nodes corresponding to the 10 possible arabic integers that a given image could be.\n",
    "\n",
    "### Forward Propogation\n",
    "\n",
    "Forward propogation is when we put an image into the input and the NN predicts and output. To compute the forward propogation we denote the values at the input later as $A^{[0]}$ which is just equal to X since there are no patameters in this layer: $A^{[0]} = X$ (784 x m)\n",
    "\n",
    "We define $Z^{[1]}$ as the unactivated 1st layer which is computerd from $A^{[0]}$ using the equation: \n",
    "\\begin{equation}\n",
    "    Z^{[1]} = W^{[1]} A^{[0]} + b^{[1]}\n",
    "\\end{equation}\n",
    "where $W^{[1]}$ is a 10 x 784 weight matrix and $b^{[1]}$ is a 10 x 1 bias term resulting in $Z^{[1]}$ being 10 x m"
   ]
  }
 ],
 "metadata": {
  "kernelspec": {
   "display_name": "base",
   "language": "python",
   "name": "python3"
  },
  "language_info": {
   "name": "python",
   "version": "3.9.13"
  },
  "orig_nbformat": 4
 },
 "nbformat": 4,
 "nbformat_minor": 2
}
